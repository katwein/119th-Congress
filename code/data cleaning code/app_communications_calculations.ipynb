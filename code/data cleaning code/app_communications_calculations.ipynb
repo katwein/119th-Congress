{
 "cells": [
  {
   "cell_type": "code",
   "execution_count": 1,
   "metadata": {
    "colab": {
     "base_uri": "https://localhost:8080/"
    },
    "id": "Ye8j3agVsg_W",
    "outputId": "fd4b8357-aded-4f9b-88e7-6f91652ae95b"
   },
   "outputs": [],
   "source": [
    "import pandas as pd\n",
    "import numpy as np\n",
    "import re\n"
   ]
  },
  {
   "cell_type": "code",
   "execution_count": 2,
   "metadata": {
    "colab": {
     "base_uri": "https://localhost:8080/"
    },
    "id": "eUfoMZGasjWl",
    "outputId": "3434ee3f-69d4-40b2-f951-ed014854dd92"
   },
   "outputs": [],
   "source": [
    "#download raw communications file from APP - which is all communications APP has run through its algorithm to \n",
    "#score for the year 2025 \n",
    "\n",
    "#read in files\n",
    "df= pd.read_csv('2025-04-24 app comm raw.csv',low_memory=False)\n",
    "df_119 = pd.read_csv('119th_congress_bioguideids.csv')"
   ]
  },
  {
   "cell_type": "code",
   "execution_count": 3,
   "metadata": {
    "colab": {
     "base_uri": "https://localhost:8080/",
     "height": 424
    },
    "id": "JlcyihUX2kDb",
    "outputId": "3f65f3a4-42d3-4dfd-ffdc-0423d663cc5e"
   },
   "outputs": [
    {
     "data": {
      "text/html": [
       "<div>\n",
       "<style scoped>\n",
       "    .dataframe tbody tr th:only-of-type {\n",
       "        vertical-align: middle;\n",
       "    }\n",
       "\n",
       "    .dataframe tbody tr th {\n",
       "        vertical-align: top;\n",
       "    }\n",
       "\n",
       "    .dataframe thead th {\n",
       "        text-align: right;\n",
       "    }\n",
       "</style>\n",
       "<table border=\"1\" class=\"dataframe\">\n",
       "  <thead>\n",
       "    <tr style=\"text-align: right;\">\n",
       "      <th></th>\n",
       "      <th>bioguide_id</th>\n",
       "      <th>full_name</th>\n",
       "    </tr>\n",
       "  </thead>\n",
       "  <tbody>\n",
       "    <tr>\n",
       "      <th>0</th>\n",
       "      <td>A000370</td>\n",
       "      <td>Alma Adams</td>\n",
       "    </tr>\n",
       "    <tr>\n",
       "      <th>1</th>\n",
       "      <td>A000055</td>\n",
       "      <td>Robert Aderholt</td>\n",
       "    </tr>\n",
       "    <tr>\n",
       "      <th>2</th>\n",
       "      <td>A000371</td>\n",
       "      <td>Pete Aguilar</td>\n",
       "    </tr>\n",
       "    <tr>\n",
       "      <th>3</th>\n",
       "      <td>A000379</td>\n",
       "      <td>Mark Alford</td>\n",
       "    </tr>\n",
       "    <tr>\n",
       "      <th>4</th>\n",
       "      <td>A000372</td>\n",
       "      <td>Rick Allen</td>\n",
       "    </tr>\n",
       "    <tr>\n",
       "      <th>...</th>\n",
       "      <td>...</td>\n",
       "      <td>...</td>\n",
       "    </tr>\n",
       "    <tr>\n",
       "      <th>533</th>\n",
       "      <td>W000800</td>\n",
       "      <td>Peter Welch</td>\n",
       "    </tr>\n",
       "    <tr>\n",
       "      <th>534</th>\n",
       "      <td>W000802</td>\n",
       "      <td>Sheldon Whitehouse</td>\n",
       "    </tr>\n",
       "    <tr>\n",
       "      <th>535</th>\n",
       "      <td>W000437</td>\n",
       "      <td>Roger Wicker</td>\n",
       "    </tr>\n",
       "    <tr>\n",
       "      <th>536</th>\n",
       "      <td>W000779</td>\n",
       "      <td>Ron Wyden</td>\n",
       "    </tr>\n",
       "    <tr>\n",
       "      <th>537</th>\n",
       "      <td>Y000064</td>\n",
       "      <td>Todd Young</td>\n",
       "    </tr>\n",
       "  </tbody>\n",
       "</table>\n",
       "<p>538 rows × 2 columns</p>\n",
       "</div>"
      ],
      "text/plain": [
       "    bioguide_id           full_name\n",
       "0       A000370          Alma Adams\n",
       "1       A000055     Robert Aderholt\n",
       "2       A000371        Pete Aguilar\n",
       "3       A000379         Mark Alford\n",
       "4       A000372          Rick Allen\n",
       "..          ...                 ...\n",
       "533     W000800         Peter Welch\n",
       "534     W000802  Sheldon Whitehouse\n",
       "535     W000437        Roger Wicker\n",
       "536     W000779           Ron Wyden\n",
       "537     Y000064          Todd Young\n",
       "\n",
       "[538 rows x 2 columns]"
      ]
     },
     "execution_count": 3,
     "metadata": {},
     "output_type": "execute_result"
    }
   ],
   "source": [
    "#function to clean 119_congress_bioguideids file\n",
    "def clean_119(df):\n",
    "\n",
    "  #make first row the column names\n",
    "  df.columns = df.iloc[0]\n",
    "  df = df_119[1:].reset_index(drop=True)\n",
    "\n",
    "  #rename NaN column\n",
    "  df.columns = ['bioguide_id' if pd.isna(col) else col for col in df.columns]\n",
    "\n",
    "  #create full_name column from Name column\n",
    "  name_only = df['Name'].str.split(' - ').str[0]\n",
    "  df['full_name'] = name_only.apply(lambda x: ' '.join(x.split(',')[1].strip().split()[:1]) + ' ' + x.split(',')[0].strip())\n",
    "\n",
    "  #only include bioguide_id column\n",
    "  df = df[['bioguide_id', 'full_name']]\n",
    "\n",
    "  return df\n",
    "\n",
    "df_bioguide = clean_119(df_119)\n",
    "df_bioguide"
   ]
  },
  {
   "cell_type": "code",
   "execution_count": 4,
   "metadata": {
    "id": "8W3Ziz5XJg66"
   },
   "outputs": [],
   "source": [
    "def clean_communications_app(df):\n",
    "  #filter only necessary columns\n",
    "  df = df[['bioguide_id','attack_personal','outcome_bipartisanship','policy','first_name','last_name']].copy()\n",
    "\n",
    "  #sum bioguide_id column to get total communication count\n",
    "  df['communication_count'] = df.groupby('bioguide_id')['bioguide_id'].transform('count')\n",
    "\n",
    "  #create full name column by combining first_name and last_name\n",
    "  df['full_name'] = df['first_name'] + ' ' + df['last_name']\n",
    "\n",
    "  #sum atttack_personal and outcome_bipartisanship column by biogude_id\n",
    "  df = df.groupby(['bioguide_id','full_name','communication_count'], as_index=False).agg({'attack_personal':'sum', 'outcome_bipartisanship':'sum', 'policy':'sum'})\n",
    "\n",
    "  #create pct columns\n",
    "  df['attack_personal_pct'] = df['attack_personal'] / df['communication_count'] * 100\n",
    "  df['outcome_bipartisanship_pct'] = df['outcome_bipartisanship'] / df['communication_count'] * 100\n",
    "  df['policy_pct'] = df['policy'] / df['communication_count'] * 100\n",
    "  return df\n",
    "\n",
    "#drop first_name and last_name columns\n",
    "df_comm_app_2025 = clean_communications_app(df).sort_values(by='bioguide_id', ascending=True).reset_index(drop=True)\n"
   ]
  },
  {
   "cell_type": "code",
   "execution_count": 5,
   "metadata": {
    "id": "NP8g6VoCbfOi"
   },
   "outputs": [],
   "source": [
    "#export csv\n",
    "df_comm_app_2025.to_csv('app_communications_2025_04_24.csv', index=False)"
   ]
  }
 ],
 "metadata": {
  "colab": {
   "provenance": []
  },
  "kernelspec": {
   "display_name": "Python 3 (ipykernel)",
   "language": "python",
   "name": "python3"
  },
  "language_info": {
   "codemirror_mode": {
    "name": "ipython",
    "version": 3
   },
   "file_extension": ".py",
   "mimetype": "text/x-python",
   "name": "python",
   "nbconvert_exporter": "python",
   "pygments_lexer": "ipython3",
   "version": "3.8.8"
  }
 },
 "nbformat": 4,
 "nbformat_minor": 1
}
